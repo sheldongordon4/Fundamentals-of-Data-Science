{
 "cells": [
  {
   "cell_type": "markdown",
   "id": "2a3fa09c-55b0-4d9d-b521-fd7839a25e4b",
   "metadata": {},
   "source": [
    "# DTSC 520: Fundamentals of Data Science\n",
    "\n",
    "## Matplotlib Practice Problems"
   ]
  },
  {
   "cell_type": "markdown",
   "id": "e57cae7b",
   "metadata": {},
   "source": [
    "## Overview\n",
    "\n",
    "These practice problems provide an opportunity for you to apply what you've learned in the Matplotlib Module on Brightspace. In this notebook, you will find a series of practice problems that will challenge you to create various visualizations using Matplotlib. The goal is to help you gain hands-on experience and reinforce your understanding of this powerful data visualization library. The goal is for you to attempt these problems on your own. If you encounter any difficulties or want to check your work, refer to the \"Matplotlib Practice Problems Solutions Video\" provided in Brithspace. As always, you are encouraged to utilize the Discussion Board and GA email for any questions you may have. "
   ]
  },
  {
   "cell_type": "markdown",
   "id": "2f844601-8d3e-49c6-8fea-9666966593b5",
   "metadata": {},
   "source": [
    "## Preliminaries: Importing common packages\n",
    "\n",
    "Run the following imports:"
   ]
  },
  {
   "cell_type": "code",
   "execution_count": null,
   "id": "b1966c9b",
   "metadata": {},
   "outputs": [],
   "source": [
    "import numpy as np\n",
    "import pandas as pd\n",
    "import matplotlib as mpl\n",
    "import seaborn as sns\n",
    "import matplotlib.pyplot as plt\n",
    "%matplotlib inline"
   ]
  },
  {
   "cell_type": "markdown",
   "id": "8af95228",
   "metadata": {},
   "source": [
    "## Importing the Student GPAs Data"
   ]
  },
  {
   "cell_type": "markdown",
   "id": "2f64d303-efde-4b70-ac98-c3ba4d550184",
   "metadata": {},
   "source": [
    "*Check that you are in the correct directory to upload the .csv file:*"
   ]
  },
  {
   "cell_type": "code",
   "execution_count": null,
   "id": "e671978f",
   "metadata": {},
   "outputs": [],
   "source": [
    "!pwd"
   ]
  },
  {
   "cell_type": "markdown",
   "id": "54068800-ccb0-4a0f-a2c7-b79ab44a31cc",
   "metadata": {},
   "source": [
    "*Load the Student GPAs .csv file by running the following:*"
   ]
  },
  {
   "cell_type": "code",
   "execution_count": null,
   "id": "afea7d97",
   "metadata": {},
   "outputs": [],
   "source": [
    "gpas = pd.read_csv('student_gpas.csv')"
   ]
  },
  {
   "cell_type": "markdown",
   "id": "b703c888",
   "metadata": {},
   "source": [
    "## Working with the Student GPAs Data\n",
    "\n",
    "*Get a glimpse of the variables and data in the student gpas dataset. You'll be using this data for exercises 1- 9*"
   ]
  },
  {
   "cell_type": "code",
   "execution_count": null,
   "id": "525bb37a",
   "metadata": {},
   "outputs": [],
   "source": [
    "gpas.head()"
   ]
  },
  {
   "cell_type": "markdown",
   "id": "b1d46611",
   "metadata": {},
   "source": [
    "**Exercise 1:** Find the average GPA for each Residence Hall and save the resulting Series to a new variable, called `dorms`."
   ]
  },
  {
   "cell_type": "code",
   "execution_count": null,
   "id": "0afa0ad0",
   "metadata": {},
   "outputs": [],
   "source": [
    "### ENTER CODE HERE ###"
   ]
  },
  {
   "cell_type": "markdown",
   "id": "9af0a526",
   "metadata": {},
   "source": [
    "**Exercise 2:** Create a bar plot of the mean GPA's for each Residence Hall. You should have a bar for each Residence Hall and the height of the bars should be the mean GPA's. You'll want to use the index of the Series from #1 for the x-axis, which we can access using dorms.index. You can just put dorms as the argument for the y-axis in the bar() method to get the height of the bars to be the mean GPA. Label the axes appropriately and give the plot a title. "
   ]
  },
  {
   "cell_type": "code",
   "execution_count": null,
   "id": "aa94cce3",
   "metadata": {},
   "outputs": [],
   "source": [
    "### ENTER CODE HERE ###"
   ]
  },
  {
   "cell_type": "markdown",
   "id": "d5040055",
   "metadata": {},
   "source": [
    "**Exercise 3:** Find the average GPA for each Year and save the resulting Series to a new variable, called `years`. "
   ]
  },
  {
   "cell_type": "code",
   "execution_count": null,
   "id": "8489ad32",
   "metadata": {},
   "outputs": [],
   "source": [
    "### ENTER CODE HERE ###"
   ]
  },
  {
   "cell_type": "markdown",
   "id": "db2a2e02",
   "metadata": {},
   "source": [
    "**Exercise 4:** We'll want to reorder the index so that the years are in chronological order (Python automatically orders them in alphabetical order). To do this, run: `years = years.reindex(index = ['Freshman', 'Sophomore', 'Junior', 'Senior'])`."
   ]
  },
  {
   "cell_type": "code",
   "execution_count": null,
   "id": "10e82f8c",
   "metadata": {},
   "outputs": [],
   "source": [
    "years = years.reindex(index = ['Freshman', 'Sophomore', 'Junior', 'Senior'])\n",
    "years"
   ]
  },
  {
   "cell_type": "markdown",
   "id": "d7d16b27",
   "metadata": {},
   "source": [
    "**Exercise 5:** Create a line plot of the GPAs for each year (Freshman, Sophomore, Junior, Senior) using the years Series from #4. Add labels and a title to the graph. Do the GPAs increase or decrease as students increase in their years? Why do you think this could be? "
   ]
  },
  {
   "cell_type": "code",
   "execution_count": null,
   "id": "5e82cebd",
   "metadata": {},
   "outputs": [],
   "source": [
    "### ENTER CODE HERE ###"
   ]
  },
  {
   "cell_type": "markdown",
   "id": "33587de7",
   "metadata": {},
   "source": [
    "**Exercise 6:** Create a pie chart of students' majors. Include the percentages, a legend, and the chart title. "
   ]
  },
  {
   "cell_type": "code",
   "execution_count": null,
   "id": "c3d6a8a7",
   "metadata": {},
   "outputs": [],
   "source": [
    "### ENTER CODE HERE ###"
   ]
  },
  {
   "cell_type": "code",
   "execution_count": null,
   "id": "d0907a9e",
   "metadata": {},
   "outputs": [],
   "source": [
    "### ENTER CODE HERE ###"
   ]
  },
  {
   "cell_type": "markdown",
   "id": "cb3b96ab",
   "metadata": {},
   "source": [
    "**Exercise 7:** Filter to get just the sophomore students. Assign it to `soph`. (Hint: Look back at how Dr. Longo filtered to get the males and females in the titanic dataset in the Matplotlib Scatterplots video.)"
   ]
  },
  {
   "cell_type": "code",
   "execution_count": null,
   "id": "3e3860e9",
   "metadata": {},
   "outputs": [],
   "source": [
    "### ENTER CODE HERE ###"
   ]
  },
  {
   "cell_type": "markdown",
   "id": "b0a808e1",
   "metadata": {},
   "source": [
    "**Exercise 8:** Create a bar chart using `soph` to show the number of sophomores (counts) from each state. Label the axes and add a title. "
   ]
  },
  {
   "cell_type": "code",
   "execution_count": null,
   "id": "2f153236",
   "metadata": {},
   "outputs": [],
   "source": [
    "### ENTER CODE HERE ###"
   ]
  },
  {
   "cell_type": "code",
   "execution_count": null,
   "id": "5107a9a3",
   "metadata": {},
   "outputs": [],
   "source": [
    "### ENTER CODE HERE ###"
   ]
  },
  {
   "cell_type": "markdown",
   "id": "5a8a7c28",
   "metadata": {},
   "source": [
    "**Exercise 9:** Create a pie chart of students' sports. Include the percentages, a legend, and a chart title."
   ]
  },
  {
   "cell_type": "code",
   "execution_count": null,
   "id": "b9c69fe8",
   "metadata": {},
   "outputs": [],
   "source": [
    "### ENTER CODE HERE ###"
   ]
  },
  {
   "cell_type": "code",
   "execution_count": null,
   "id": "84424b32",
   "metadata": {},
   "outputs": [],
   "source": [
    "### ENTER CODE HERE ###"
   ]
  },
  {
   "cell_type": "markdown",
   "id": "948a7c59",
   "metadata": {},
   "source": [
    "## Working with the Tips Dataset\n",
    "\n",
    "*Load the tips dataset by running the following. You'll be using this dataset exercises 10-12.*"
   ]
  },
  {
   "cell_type": "code",
   "execution_count": null,
   "id": "35a8c9a3",
   "metadata": {},
   "outputs": [],
   "source": [
    "tips = sns.load_dataset('tips')"
   ]
  },
  {
   "cell_type": "code",
   "execution_count": null,
   "id": "32cabfe2",
   "metadata": {},
   "outputs": [],
   "source": [
    "tips.head()"
   ]
  },
  {
   "cell_type": "markdown",
   "id": "f47499f8",
   "metadata": {},
   "source": [
    "**Exercise 10:** Create a scatter plot with the tip on the x-axis and total bill on the y-axis. Color the points according to the size of the party. Include labels and a title. "
   ]
  },
  {
   "cell_type": "code",
   "execution_count": null,
   "id": "ead472f9",
   "metadata": {},
   "outputs": [],
   "source": [
    "### ENTER CODE HERE ###"
   ]
  },
  {
   "cell_type": "markdown",
   "id": "0e20c780",
   "metadata": {},
   "source": [
    "**Exercise 11:**  Re-create the follwing pie chart:\n",
    "<img src=\"11_pie_chart.png\" height = \"350\" width = \"350\" />"
   ]
  },
  {
   "cell_type": "code",
   "execution_count": null,
   "id": "34289a10",
   "metadata": {},
   "outputs": [],
   "source": [
    "### ENTER CODE HERE ###"
   ]
  },
  {
   "cell_type": "code",
   "execution_count": null,
   "id": "b1adf22c",
   "metadata": {},
   "outputs": [],
   "source": [
    "### ENTER CODE HERE ###"
   ]
  },
  {
   "cell_type": "markdown",
   "id": "feb7fd84",
   "metadata": {},
   "source": [
    "**Exercise 12:** Create a 2x2 grid of scatter plots with tip on the x-axes and total bill on the y-axes. The subplots should be for each day that the restaurant is open. Label each axis, title each subplot, and include a larger title for the entire figure. "
   ]
  },
  {
   "cell_type": "code",
   "execution_count": null,
   "id": "0ebe3301",
   "metadata": {},
   "outputs": [],
   "source": [
    "### ENTER CODE HERE ###"
   ]
  },
  {
   "cell_type": "markdown",
   "id": "344b35fd",
   "metadata": {},
   "source": [
    "**Exercise 13:** Re-create the folowing plot: \n",
    "<img src=\"13_figure.png\" height = \"400\" width = \"400\" />"
   ]
  },
  {
   "cell_type": "code",
   "execution_count": null,
   "id": "9cceeec6",
   "metadata": {},
   "outputs": [],
   "source": [
    "### ENTER CODE HERE ###"
   ]
  },
  {
   "cell_type": "markdown",
   "id": "4c9dd44a",
   "metadata": {},
   "source": [
    "**Exercise 14a:** Below is the data for 5 students who took two exams. We have the amount of time they studied (in hours) and their exam grade. Create 4 lists– each list will contain the data for one of the columns below.\n",
    "\n",
    "<img src=\"14a_data.png\" height = \"500\" width = \"500\" />"
   ]
  },
  {
   "cell_type": "code",
   "execution_count": null,
   "id": "00ed3906",
   "metadata": {},
   "outputs": [],
   "source": [
    "### ENTER CODE HERE ###"
   ]
  },
  {
   "cell_type": "markdown",
   "id": "e1cbaecc",
   "metadata": {},
   "source": [
    "**Exercise 14b:** Create the following plot depicting the data:\n",
    "\n",
    "<img src=\"14b_figure.png\" height = \"500\" width = \"500\" />"
   ]
  },
  {
   "cell_type": "code",
   "execution_count": null,
   "id": "84358321",
   "metadata": {},
   "outputs": [],
   "source": [
    "### ENTER CODE HERE ###"
   ]
  },
  {
   "cell_type": "markdown",
   "id": "acb611fe",
   "metadata": {},
   "source": [
    "## Working with the mpg Dataset\n",
    "\n",
    "*Load the mpg dataset by running the following. This dataset contains information on vehicles. You'll be using this dataset for exercises 15-18.*"
   ]
  },
  {
   "cell_type": "code",
   "execution_count": null,
   "id": "c4d18f92",
   "metadata": {},
   "outputs": [],
   "source": [
    "cars = sns.load_dataset('mpg')"
   ]
  },
  {
   "cell_type": "code",
   "execution_count": null,
   "id": "04906e0f",
   "metadata": {},
   "outputs": [],
   "source": [
    "cars.head()"
   ]
  },
  {
   "cell_type": "markdown",
   "id": "c399b1d3",
   "metadata": {},
   "source": [
    "**Exercise 15:** Re-create the grid of plots below. Include a few comments on the relationship or lack thereof that you see in the plots.\n",
    "\n",
    "<img src=\"15_figure.png\" height = \"500\" width = \"800\" />\n",
    "\n",
    "*(Hint: To do so, first create 3 separate data frames for each of the countries of origin.\n",
    "That is, index the cars dataset to get only the cars with origin of ‘usa’ and save \n",
    "this to a new variable. Do the same for cars from Japan and Europe.)*"
   ]
  },
  {
   "cell_type": "code",
   "execution_count": null,
   "id": "61b81d36-05c6-49c0-9b40-f8dbaa2754d9",
   "metadata": {},
   "outputs": [],
   "source": [
    "### ENTER CODE HERE ###"
   ]
  },
  {
   "cell_type": "code",
   "execution_count": null,
   "id": "303aabc0",
   "metadata": {},
   "outputs": [],
   "source": [
    "### ENTER CODE HERE ###"
   ]
  },
  {
   "cell_type": "code",
   "execution_count": null,
   "id": "22ca656a",
   "metadata": {},
   "outputs": [],
   "source": [
    "### ENTER COMMENTS HERE ###"
   ]
  },
  {
   "cell_type": "markdown",
   "id": "8abd0bbf",
   "metadata": {},
   "source": [
    "**Exercise 16:** Create a plot with the following specifications: \n",
    "* Scatter plot\n",
    "* displacement on the x-axis\n",
    "* mpg on the y-axis\n",
    "* The color of the points show the number of cylinders the car has\n",
    "* A legend for the coloring of the points\n",
    "* The figure is size (10,7)\n",
    "* Labels on both axes\n",
    "* Title \n",
    "\n",
    "Offer some commentary on your plot and the relationships between the variables \n",
    "being shown."
   ]
  },
  {
   "cell_type": "code",
   "execution_count": null,
   "id": "bbc8efe6",
   "metadata": {},
   "outputs": [],
   "source": [
    "### ENTER CODE HERE ###"
   ]
  },
  {
   "cell_type": "code",
   "execution_count": null,
   "id": "d492acb2",
   "metadata": {},
   "outputs": [],
   "source": [
    "### ENTER COMMENTS HERE ###"
   ]
  },
  {
   "cell_type": "markdown",
   "id": "b9098bf5",
   "metadata": {},
   "source": [
    "**Exercise 17:** Find the median weight of the cars for each country of origin. Assign the result to `origin_wt`."
   ]
  },
  {
   "cell_type": "code",
   "execution_count": null,
   "id": "e3ec7bf3",
   "metadata": {},
   "outputs": [],
   "source": [
    "### ENTER CODE HERE ###"
   ]
  },
  {
   "cell_type": "markdown",
   "id": "27b47b7c",
   "metadata": {},
   "source": [
    "**Exercise 18:** Use `origin_wt` to create the following bar chart:\n",
    "\n",
    "<img src=\"18_bar_chart.png\" height = \"500\" width = \"450\" />"
   ]
  },
  {
   "cell_type": "code",
   "execution_count": null,
   "id": "c0963406",
   "metadata": {},
   "outputs": [],
   "source": [
    "### ENTER CODE HERE ###"
   ]
  },
  {
   "cell_type": "markdown",
   "id": "8e345766",
   "metadata": {},
   "source": [
    "## Working with the Penguins Dataset\n",
    "\n",
    "*Run the following to load the penguins dataset. You will use this dataset for exercise 19.* "
   ]
  },
  {
   "cell_type": "code",
   "execution_count": null,
   "id": "8c9b5a53",
   "metadata": {},
   "outputs": [],
   "source": [
    "penguins = sns.load_dataset('penguins')"
   ]
  },
  {
   "cell_type": "code",
   "execution_count": null,
   "id": "1ac70b18",
   "metadata": {},
   "outputs": [],
   "source": [
    "penguins.head()"
   ]
  },
  {
   "cell_type": "markdown",
   "id": "ea9280ee",
   "metadata": {},
   "source": [
    "**Exercise 19:** Create the following grid of plots, and comment on the comparison between islands and sex and on the relationship or lack thereof that you see in the plots.\n",
    "\n",
    "<img src=\"19_figure.png\" height = \"500\" width = \"800\" />\n",
    "\n",
    "*(Hint: To do so, first create 3 separate data frames for each of the islands. That is, index the penguins dataset to get only the penguins from the island of ‘Biscoe’ and save this to a new variable. Do the same for penguins from Dream and Torgersen.\n",
    "Then, add the females and males separately to each scatterplot. Color the female penguins ‘deeppink’ and color the male penguins ‘deepskyblue’.)*"
   ]
  },
  {
   "cell_type": "code",
   "execution_count": null,
   "id": "bbb7144c",
   "metadata": {},
   "outputs": [],
   "source": [
    "### ENTER CODE HERE ###"
   ]
  },
  {
   "cell_type": "code",
   "execution_count": null,
   "id": "c67343fe",
   "metadata": {},
   "outputs": [],
   "source": [
    "### ENTER CODE HERE ###"
   ]
  }
 ],
 "metadata": {
  "kernelspec": {
   "display_name": "Python 3 (ipykernel)",
   "language": "python",
   "name": "python3"
  },
  "language_info": {
   "codemirror_mode": {
    "name": "ipython",
    "version": 3
   },
   "file_extension": ".py",
   "mimetype": "text/x-python",
   "name": "python",
   "nbconvert_exporter": "python",
   "pygments_lexer": "ipython3",
   "version": "3.9.12"
  }
 },
 "nbformat": 4,
 "nbformat_minor": 5
}
