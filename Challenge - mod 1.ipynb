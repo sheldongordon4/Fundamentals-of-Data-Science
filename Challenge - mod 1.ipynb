{
 "cells": [
  {
   "cell_type": "code",
   "execution_count": 4,
   "id": "89828e89-6610-4264-bf02-e35cf93abb2c",
   "metadata": {},
   "outputs": [
    {
     "data": {
      "text/plain": [
       "array([[4, 0, 3, 3],\n",
       "       [3, 1, 3, 2],\n",
       "       [4, 0, 0, 4],\n",
       "       [2, 1, 0, 1]])"
      ]
     },
     "execution_count": 4,
     "metadata": {},
     "output_type": "execute_result"
    }
   ],
   "source": [
    "import numpy as np\n",
    "np.random.seed(0)\n",
    "x = np.random.randint(5, size = (4,4))\n",
    "x"
   ]
  },
  {
   "cell_type": "code",
   "execution_count": 10,
   "id": "1e32d338-2fe9-4a67-8d1d-3337909d5f85",
   "metadata": {},
   "outputs": [
    {
     "data": {
      "text/plain": [
       "array([[  4,   0,   3,   3],\n",
       "       [  3,   1,   3,   2],\n",
       "       [  4, 100,   0,   4],\n",
       "       [  2,   1,   0,   1]])"
      ]
     },
     "execution_count": 10,
     "metadata": {},
     "output_type": "execute_result"
    }
   ],
   "source": [
    "x[2, 1] = 100\n",
    "x"
   ]
  },
  {
   "cell_type": "code",
   "execution_count": 28,
   "id": "1fb51e61-9ab7-4ceb-b929-1d83256bc135",
   "metadata": {},
   "outputs": [
    {
     "data": {
      "text/plain": [
       "array([[  4,   0,   3,   3],\n",
       "       [  3,   1,   3, 200],\n",
       "       [  4, 100,   0,   4],\n",
       "       [  2,   1,   0,   1]])"
      ]
     },
     "execution_count": 28,
     "metadata": {},
     "output_type": "execute_result"
    }
   ],
   "source": [
    "x[1, 3] = 200\n",
    "x"
   ]
  },
  {
   "cell_type": "code",
   "execution_count": 32,
   "id": "8ef1df63-310f-4a90-b175-cca26274ee30",
   "metadata": {},
   "outputs": [
    {
     "data": {
      "text/plain": [
       "array([  4, 100,   0,   4])"
      ]
     },
     "execution_count": 32,
     "metadata": {},
     "output_type": "execute_result"
    }
   ],
   "source": [
    "x3_copy = x[2, :].copy()\n",
    "x3_copy"
   ]
  },
  {
   "cell_type": "code",
   "execution_count": 34,
   "id": "f9d80995-6823-4279-801f-96762bdbf0e9",
   "metadata": {},
   "outputs": [
    {
     "data": {
      "text/plain": [
       "array([[  4],\n",
       "       [100],\n",
       "       [  0],\n",
       "       [  4]])"
      ]
     },
     "execution_count": 34,
     "metadata": {},
     "output_type": "execute_result"
    }
   ],
   "source": [
    "x3_copy.reshape((4,1))"
   ]
  },
  {
   "cell_type": "code",
   "execution_count": null,
   "id": "8c897960-09fd-4ffa-86cd-5d6e9d2a1c3f",
   "metadata": {},
   "outputs": [],
   "source": []
  },
  {
   "cell_type": "code",
   "execution_count": null,
   "id": "b5b25c6f-aca0-46b6-b457-d03f48cd1a92",
   "metadata": {},
   "outputs": [],
   "source": []
  },
  {
   "cell_type": "code",
   "execution_count": null,
   "id": "ec6f6c43-21fc-4fc8-97ff-26ad6a8435e6",
   "metadata": {},
   "outputs": [],
   "source": []
  },
  {
   "cell_type": "code",
   "execution_count": null,
   "id": "da8032fd-715b-49e5-b975-18a8a3e3acdb",
   "metadata": {},
   "outputs": [],
   "source": []
  },
  {
   "cell_type": "code",
   "execution_count": null,
   "id": "0304065a-55f6-4bea-81b4-1c6ff258b222",
   "metadata": {},
   "outputs": [],
   "source": []
  },
  {
   "cell_type": "code",
   "execution_count": null,
   "id": "1a927a38-0d42-48a4-af4c-bb41e87773ac",
   "metadata": {},
   "outputs": [],
   "source": []
  }
 ],
 "metadata": {
  "kernelspec": {
   "display_name": "Python [conda env:base] *",
   "language": "python",
   "name": "conda-base-py"
  },
  "language_info": {
   "codemirror_mode": {
    "name": "ipython",
    "version": 3
   },
   "file_extension": ".py",
   "mimetype": "text/x-python",
   "name": "python",
   "nbconvert_exporter": "python",
   "pygments_lexer": "ipython3",
   "version": "3.12.7"
  }
 },
 "nbformat": 4,
 "nbformat_minor": 5
}
