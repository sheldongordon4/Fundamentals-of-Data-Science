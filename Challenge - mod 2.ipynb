{
 "cells": [
  {
   "cell_type": "code",
   "execution_count": 5,
   "id": "b97c6739-eabe-432f-9137-c77822be1ae7",
   "metadata": {},
   "outputs": [
    {
     "data": {
      "text/plain": [
       "array([10, 73, 99, 84, 79, 80, 62, 25,  1, 75, 77, 57, 26, 33, 68, 33,  8,\n",
       "        2, 76, 84])"
      ]
     },
     "execution_count": 5,
     "metadata": {},
     "output_type": "execute_result"
    }
   ],
   "source": [
    "import numpy as np\n",
    "from numpy import random\n",
    "rand = random.RandomState(6)\n",
    "j = rand.randint(100, size = 20)\n",
    "j"
   ]
  },
  {
   "cell_type": "code",
   "execution_count": 19,
   "id": "1c743924-ef3d-4b60-8d49-7d844921b695",
   "metadata": {},
   "outputs": [
    {
     "data": {
      "text/plain": [
       "array([84, 57])"
      ]
     },
     "execution_count": 19,
     "metadata": {},
     "output_type": "execute_result"
    }
   ],
   "source": [
    "ind = np.array([3, 11])\n",
    "j[ind]"
   ]
  },
  {
   "cell_type": "code",
   "execution_count": 21,
   "id": "f3410375-a8af-4c70-993c-548fa204e84d",
   "metadata": {},
   "outputs": [
    {
     "data": {
      "text/plain": [
       "array([99,  8,  1])"
      ]
     },
     "execution_count": 21,
     "metadata": {},
     "output_type": "execute_result"
    }
   ],
   "source": [
    "ind = np.array([2, 16, 8])\n",
    "j[ind]"
   ]
  },
  {
   "cell_type": "code",
   "execution_count": 17,
   "id": "d79c464e-3ecc-4e04-8c99-ad6160e41e98",
   "metadata": {},
   "outputs": [
    {
     "data": {
      "text/plain": [
       "array([[75, 99],\n",
       "       [76, 25]])"
      ]
     },
     "execution_count": 17,
     "metadata": {},
     "output_type": "execute_result"
    }
   ],
   "source": [
    "ind = np.array([[9, 2], [18, 7]])\n",
    "j[ind]"
   ]
  },
  {
   "cell_type": "code",
   "execution_count": null,
   "id": "7f516100-8e41-4c56-9cbf-749dc0dc4241",
   "metadata": {},
   "outputs": [],
   "source": []
  },
  {
   "cell_type": "code",
   "execution_count": null,
   "id": "c06b708d-22b2-4b60-8514-5cdccc8a2862",
   "metadata": {},
   "outputs": [],
   "source": []
  },
  {
   "cell_type": "code",
   "execution_count": null,
   "id": "b7b7ebb1-151a-4b09-a32e-66ee4203fc5c",
   "metadata": {},
   "outputs": [],
   "source": []
  },
  {
   "cell_type": "code",
   "execution_count": null,
   "id": "a6a7026c-5f26-4095-8344-64221ec89cd4",
   "metadata": {},
   "outputs": [],
   "source": []
  },
  {
   "cell_type": "code",
   "execution_count": null,
   "id": "dde0d417-a59e-4714-94b4-4962c7fa2bd6",
   "metadata": {},
   "outputs": [],
   "source": []
  },
  {
   "cell_type": "code",
   "execution_count": null,
   "id": "e41c4a9f-25b7-42b5-976a-122cda18e7d9",
   "metadata": {},
   "outputs": [],
   "source": []
  },
  {
   "cell_type": "code",
   "execution_count": null,
   "id": "702be1f4-6577-4a9c-b2f4-c7500b8083e6",
   "metadata": {},
   "outputs": [],
   "source": []
  },
  {
   "cell_type": "code",
   "execution_count": null,
   "id": "cfa53433-7e10-4a98-a26f-abe581953da8",
   "metadata": {},
   "outputs": [],
   "source": []
  },
  {
   "cell_type": "code",
   "execution_count": null,
   "id": "cbfee8bb-9f2e-45d0-8828-b171b9e4b14a",
   "metadata": {},
   "outputs": [],
   "source": []
  },
  {
   "cell_type": "code",
   "execution_count": null,
   "id": "a5fb9b66-e4f2-4e4d-9963-fdecfa6cf646",
   "metadata": {},
   "outputs": [],
   "source": []
  },
  {
   "cell_type": "code",
   "execution_count": null,
   "id": "b0f3ef50-a777-485d-8914-c38d9f9d088f",
   "metadata": {},
   "outputs": [],
   "source": []
  }
 ],
 "metadata": {
  "kernelspec": {
   "display_name": "Python [conda env:base] *",
   "language": "python",
   "name": "conda-base-py"
  },
  "language_info": {
   "codemirror_mode": {
    "name": "ipython",
    "version": 3
   },
   "file_extension": ".py",
   "mimetype": "text/x-python",
   "name": "python",
   "nbconvert_exporter": "python",
   "pygments_lexer": "ipython3",
   "version": "3.12.7"
  }
 },
 "nbformat": 4,
 "nbformat_minor": 5
}
